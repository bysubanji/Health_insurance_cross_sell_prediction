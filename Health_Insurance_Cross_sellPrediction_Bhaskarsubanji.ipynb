{
  "nbformat": 4,
  "nbformat_minor": 0,
  "metadata": {
    "colab": {
      "name": "Health_Insurance_Cross_sellPrediction_Bhaskarsubanji.ipynb",
      "provenance": [],
      "collapsed_sections": [
        "oUJxH1p4G1jr",
        "3S6Bt9OzOjbO",
        "0buuXvtVMVgq",
        "myN3qUhZOrJV",
        "dFHEZyv4SdkA",
        "eH2Wcqk1zu27",
        "wYyGY2np6sM0",
        "_oKYS906Spq3",
        "-59jw_kZSgZ0",
        "lr7gDrXc5N25",
        "NnDIcxPrBcWV",
        "NlaYpu4YC6VZ",
        "-_T7oWYLsCJm",
        "Buwl6cr3vV4E",
        "-H1bk4LUvkkB",
        "uJa6PSqUwzxM",
        "k5TAzWILxRIy",
        "PnfOTuGXCyle",
        "a5E91XeazrSO",
        "SUVfQnLMYmIL",
        "mi4NxeryCeig",
        "3KCaxThKbGzQ",
        "QoW703KK-jIB",
        "wSj7gm5YApSq",
        "JmJgsmr3BjOo"
      ],
      "authorship_tag": "ABX9TyP3lhzW6U2Nk8JVx6GQbzRg",
      "include_colab_link": true
    },
    "kernelspec": {
      "name": "python3",
      "display_name": "Python 3"
    },
    "language_info": {
      "name": "python"
    }
  },
  "cells": [
    {
      "cell_type": "markdown",
      "metadata": {
        "id": "view-in-github",
        "colab_type": "text"
      },
      "source": [
        "<a href=\"https://colab.research.google.com/github/bysubanji/Health_insurance_cross_sell_prediction/blob/main/Health_Insurance_Cross_sellPrediction_Bhaskarsubanji.ipynb\" target=\"_parent\"><img src=\"https://colab.research.google.com/assets/colab-badge.svg\" alt=\"Open In Colab\"/></a>"
      ]
    },
    {
      "cell_type": "markdown",
      "source": [
        "# **Health Insurance Cross Sell Prediction**\n",
        "\n",
        "### **Predict Health insurance owners' who will be interested in buying Vehicle Insurance**\n",
        "\n",
        "Our client is an Insurance company that has supplied Health Insurance to its customers now they require help in building a model to predict whether the consumers from the past year will also be interested in Vehicle Insurance provided by the company.\n",
        "\n",
        "**Objective**\n",
        "\n",
        "Building a model to predict whether a customer would be interested in Vehicle Insurance is extremely helpful for the company because it can then accordingly plan its communication strategy to reach out to those customers and optimise its business model and revenue."
      ],
      "metadata": {
        "id": "oUJxH1p4G1jr"
      }
    },
    {
      "cell_type": "markdown",
      "source": [
        "# Importing Required Libreries and Data"
      ],
      "metadata": {
        "id": "3S6Bt9OzOjbO"
      }
    },
    {
      "cell_type": "markdown",
      "source": [
        "## Importing Required Libreries, mounting of drive and loading the dataset."
      ],
      "metadata": {
        "id": "0buuXvtVMVgq"
      }
    },
    {
      "cell_type": "code",
      "source": [
        "# importing libraries\n",
        "import pandas  as pd\n",
        "import numpy as np\n",
        "import seaborn as sns\n",
        "import matplotlib.pyplot as plt\n",
        "from sklearn.preprocessing import LabelEncoder \n",
        "from sklearn.model_selection import train_test_split\n",
        "from imblearn.over_sampling import RandomOverSampler\n",
        "from collections import Counter\n",
        "from sklearn.preprocessing import StandardScaler\n",
        "from sklearn.linear_model import LogisticRegression\n",
        "from sklearn.metrics import precision_score,recall_score,accuracy_score,f1_score,confusion_matrix,roc_auc_score,classification_report\n",
        "from sklearn.ensemble import RandomForestClassifier\n",
        "from xgboost import XGBClassifier"
      ],
      "metadata": {
        "id": "OTECbvULMTi0"
      },
      "execution_count": 1,
      "outputs": []
    },
    {
      "cell_type": "code",
      "source": [
        "# Mounting of Drive\n",
        "from google.colab import drive\n",
        "drive.mount(\"/content/drive\")"
      ],
      "metadata": {
        "colab": {
          "base_uri": "https://localhost:8080/"
        },
        "id": "4tDSWitYMup4",
        "outputId": "909ae419-af68-4da8-b9d9-b8ac1c8b0edb"
      },
      "execution_count": 2,
      "outputs": [
        {
          "output_type": "stream",
          "name": "stdout",
          "text": [
            "Mounted at /content/drive\n"
          ]
        }
      ]
    },
    {
      "cell_type": "code",
      "source": [
        "# Loading of data\n",
        "data=pd.read_csv(\"/content/drive/MyDrive/Projects - Almabetter/Health_Insurance_cross_sell_prediction/TRAIN-HEALTH INSURANCE CROSS SELL PREDICTION.csv\")"
      ],
      "metadata": {
        "id": "pi2e7Za_Mwr_"
      },
      "execution_count": 3,
      "outputs": []
    },
    {
      "cell_type": "markdown",
      "source": [
        "# Data summarization"
      ],
      "metadata": {
        "id": "myN3qUhZOrJV"
      }
    },
    {
      "cell_type": "code",
      "source": [
        "# lets look at first 5 rows\n",
        "data.head()"
      ],
      "metadata": {
        "colab": {
          "base_uri": "https://localhost:8080/",
          "height": 206
        },
        "id": "D16g13XoPNA3",
        "outputId": "d16d75a1-b905-4c4d-f0f3-b0b25dc553fc"
      },
      "execution_count": 4,
      "outputs": [
        {
          "output_type": "execute_result",
          "data": {
            "text/html": [
              "\n",
              "  <div id=\"df-530ae411-efec-4084-ad8b-16184b4b3e8f\">\n",
              "    <div class=\"colab-df-container\">\n",
              "      <div>\n",
              "<style scoped>\n",
              "    .dataframe tbody tr th:only-of-type {\n",
              "        vertical-align: middle;\n",
              "    }\n",
              "\n",
              "    .dataframe tbody tr th {\n",
              "        vertical-align: top;\n",
              "    }\n",
              "\n",
              "    .dataframe thead th {\n",
              "        text-align: right;\n",
              "    }\n",
              "</style>\n",
              "<table border=\"1\" class=\"dataframe\">\n",
              "  <thead>\n",
              "    <tr style=\"text-align: right;\">\n",
              "      <th></th>\n",
              "      <th>id</th>\n",
              "      <th>Gender</th>\n",
              "      <th>Age</th>\n",
              "      <th>Driving_License</th>\n",
              "      <th>Region_Code</th>\n",
              "      <th>Previously_Insured</th>\n",
              "      <th>Vehicle_Age</th>\n",
              "      <th>Vehicle_Damage</th>\n",
              "      <th>Annual_Premium</th>\n",
              "      <th>Policy_Sales_Channel</th>\n",
              "      <th>Vintage</th>\n",
              "      <th>Response</th>\n",
              "    </tr>\n",
              "  </thead>\n",
              "  <tbody>\n",
              "    <tr>\n",
              "      <th>0</th>\n",
              "      <td>1</td>\n",
              "      <td>Male</td>\n",
              "      <td>44</td>\n",
              "      <td>1</td>\n",
              "      <td>28.0</td>\n",
              "      <td>0</td>\n",
              "      <td>&gt; 2 Years</td>\n",
              "      <td>Yes</td>\n",
              "      <td>40454.0</td>\n",
              "      <td>26.0</td>\n",
              "      <td>217</td>\n",
              "      <td>1</td>\n",
              "    </tr>\n",
              "    <tr>\n",
              "      <th>1</th>\n",
              "      <td>2</td>\n",
              "      <td>Male</td>\n",
              "      <td>76</td>\n",
              "      <td>1</td>\n",
              "      <td>3.0</td>\n",
              "      <td>0</td>\n",
              "      <td>1-2 Year</td>\n",
              "      <td>No</td>\n",
              "      <td>33536.0</td>\n",
              "      <td>26.0</td>\n",
              "      <td>183</td>\n",
              "      <td>0</td>\n",
              "    </tr>\n",
              "    <tr>\n",
              "      <th>2</th>\n",
              "      <td>3</td>\n",
              "      <td>Male</td>\n",
              "      <td>47</td>\n",
              "      <td>1</td>\n",
              "      <td>28.0</td>\n",
              "      <td>0</td>\n",
              "      <td>&gt; 2 Years</td>\n",
              "      <td>Yes</td>\n",
              "      <td>38294.0</td>\n",
              "      <td>26.0</td>\n",
              "      <td>27</td>\n",
              "      <td>1</td>\n",
              "    </tr>\n",
              "    <tr>\n",
              "      <th>3</th>\n",
              "      <td>4</td>\n",
              "      <td>Male</td>\n",
              "      <td>21</td>\n",
              "      <td>1</td>\n",
              "      <td>11.0</td>\n",
              "      <td>1</td>\n",
              "      <td>&lt; 1 Year</td>\n",
              "      <td>No</td>\n",
              "      <td>28619.0</td>\n",
              "      <td>152.0</td>\n",
              "      <td>203</td>\n",
              "      <td>0</td>\n",
              "    </tr>\n",
              "    <tr>\n",
              "      <th>4</th>\n",
              "      <td>5</td>\n",
              "      <td>Female</td>\n",
              "      <td>29</td>\n",
              "      <td>1</td>\n",
              "      <td>41.0</td>\n",
              "      <td>1</td>\n",
              "      <td>&lt; 1 Year</td>\n",
              "      <td>No</td>\n",
              "      <td>27496.0</td>\n",
              "      <td>152.0</td>\n",
              "      <td>39</td>\n",
              "      <td>0</td>\n",
              "    </tr>\n",
              "  </tbody>\n",
              "</table>\n",
              "</div>\n",
              "      <button class=\"colab-df-convert\" onclick=\"convertToInteractive('df-530ae411-efec-4084-ad8b-16184b4b3e8f')\"\n",
              "              title=\"Convert this dataframe to an interactive table.\"\n",
              "              style=\"display:none;\">\n",
              "        \n",
              "  <svg xmlns=\"http://www.w3.org/2000/svg\" height=\"24px\"viewBox=\"0 0 24 24\"\n",
              "       width=\"24px\">\n",
              "    <path d=\"M0 0h24v24H0V0z\" fill=\"none\"/>\n",
              "    <path d=\"M18.56 5.44l.94 2.06.94-2.06 2.06-.94-2.06-.94-.94-2.06-.94 2.06-2.06.94zm-11 1L8.5 8.5l.94-2.06 2.06-.94-2.06-.94L8.5 2.5l-.94 2.06-2.06.94zm10 10l.94 2.06.94-2.06 2.06-.94-2.06-.94-.94-2.06-.94 2.06-2.06.94z\"/><path d=\"M17.41 7.96l-1.37-1.37c-.4-.4-.92-.59-1.43-.59-.52 0-1.04.2-1.43.59L10.3 9.45l-7.72 7.72c-.78.78-.78 2.05 0 2.83L4 21.41c.39.39.9.59 1.41.59.51 0 1.02-.2 1.41-.59l7.78-7.78 2.81-2.81c.8-.78.8-2.07 0-2.86zM5.41 20L4 18.59l7.72-7.72 1.47 1.35L5.41 20z\"/>\n",
              "  </svg>\n",
              "      </button>\n",
              "      \n",
              "  <style>\n",
              "    .colab-df-container {\n",
              "      display:flex;\n",
              "      flex-wrap:wrap;\n",
              "      gap: 12px;\n",
              "    }\n",
              "\n",
              "    .colab-df-convert {\n",
              "      background-color: #E8F0FE;\n",
              "      border: none;\n",
              "      border-radius: 50%;\n",
              "      cursor: pointer;\n",
              "      display: none;\n",
              "      fill: #1967D2;\n",
              "      height: 32px;\n",
              "      padding: 0 0 0 0;\n",
              "      width: 32px;\n",
              "    }\n",
              "\n",
              "    .colab-df-convert:hover {\n",
              "      background-color: #E2EBFA;\n",
              "      box-shadow: 0px 1px 2px rgba(60, 64, 67, 0.3), 0px 1px 3px 1px rgba(60, 64, 67, 0.15);\n",
              "      fill: #174EA6;\n",
              "    }\n",
              "\n",
              "    [theme=dark] .colab-df-convert {\n",
              "      background-color: #3B4455;\n",
              "      fill: #D2E3FC;\n",
              "    }\n",
              "\n",
              "    [theme=dark] .colab-df-convert:hover {\n",
              "      background-color: #434B5C;\n",
              "      box-shadow: 0px 1px 3px 1px rgba(0, 0, 0, 0.15);\n",
              "      filter: drop-shadow(0px 1px 2px rgba(0, 0, 0, 0.3));\n",
              "      fill: #FFFFFF;\n",
              "    }\n",
              "  </style>\n",
              "\n",
              "      <script>\n",
              "        const buttonEl =\n",
              "          document.querySelector('#df-530ae411-efec-4084-ad8b-16184b4b3e8f button.colab-df-convert');\n",
              "        buttonEl.style.display =\n",
              "          google.colab.kernel.accessAllowed ? 'block' : 'none';\n",
              "\n",
              "        async function convertToInteractive(key) {\n",
              "          const element = document.querySelector('#df-530ae411-efec-4084-ad8b-16184b4b3e8f');\n",
              "          const dataTable =\n",
              "            await google.colab.kernel.invokeFunction('convertToInteractive',\n",
              "                                                     [key], {});\n",
              "          if (!dataTable) return;\n",
              "\n",
              "          const docLinkHtml = 'Like what you see? Visit the ' +\n",
              "            '<a target=\"_blank\" href=https://colab.research.google.com/notebooks/data_table.ipynb>data table notebook</a>'\n",
              "            + ' to learn more about interactive tables.';\n",
              "          element.innerHTML = '';\n",
              "          dataTable['output_type'] = 'display_data';\n",
              "          await google.colab.output.renderOutput(dataTable, element);\n",
              "          const docLink = document.createElement('div');\n",
              "          docLink.innerHTML = docLinkHtml;\n",
              "          element.appendChild(docLink);\n",
              "        }\n",
              "      </script>\n",
              "    </div>\n",
              "  </div>\n",
              "  "
            ],
            "text/plain": [
              "   id  Gender  Age  ...  Policy_Sales_Channel  Vintage  Response\n",
              "0   1    Male   44  ...                  26.0      217         1\n",
              "1   2    Male   76  ...                  26.0      183         0\n",
              "2   3    Male   47  ...                  26.0       27         1\n",
              "3   4    Male   21  ...                 152.0      203         0\n",
              "4   5  Female   29  ...                 152.0       39         0\n",
              "\n",
              "[5 rows x 12 columns]"
            ]
          },
          "metadata": {},
          "execution_count": 4
        }
      ]
    },
    {
      "cell_type": "code",
      "source": [
        "# lets look at last 5 rows\n",
        "data.tail()"
      ],
      "metadata": {
        "colab": {
          "base_uri": "https://localhost:8080/",
          "height": 270
        },
        "id": "OBZDZBB4PZWV",
        "outputId": "77d3470e-f320-40dc-bf63-3e9a47a0f40c"
      },
      "execution_count": 5,
      "outputs": [
        {
          "output_type": "execute_result",
          "data": {
            "text/html": [
              "\n",
              "  <div id=\"df-5b72cb39-d53f-41aa-a34b-d37ad96b2d4f\">\n",
              "    <div class=\"colab-df-container\">\n",
              "      <div>\n",
              "<style scoped>\n",
              "    .dataframe tbody tr th:only-of-type {\n",
              "        vertical-align: middle;\n",
              "    }\n",
              "\n",
              "    .dataframe tbody tr th {\n",
              "        vertical-align: top;\n",
              "    }\n",
              "\n",
              "    .dataframe thead th {\n",
              "        text-align: right;\n",
              "    }\n",
              "</style>\n",
              "<table border=\"1\" class=\"dataframe\">\n",
              "  <thead>\n",
              "    <tr style=\"text-align: right;\">\n",
              "      <th></th>\n",
              "      <th>id</th>\n",
              "      <th>Gender</th>\n",
              "      <th>Age</th>\n",
              "      <th>Driving_License</th>\n",
              "      <th>Region_Code</th>\n",
              "      <th>Previously_Insured</th>\n",
              "      <th>Vehicle_Age</th>\n",
              "      <th>Vehicle_Damage</th>\n",
              "      <th>Annual_Premium</th>\n",
              "      <th>Policy_Sales_Channel</th>\n",
              "      <th>Vintage</th>\n",
              "      <th>Response</th>\n",
              "    </tr>\n",
              "  </thead>\n",
              "  <tbody>\n",
              "    <tr>\n",
              "      <th>381104</th>\n",
              "      <td>381105</td>\n",
              "      <td>Male</td>\n",
              "      <td>74</td>\n",
              "      <td>1</td>\n",
              "      <td>26.0</td>\n",
              "      <td>1</td>\n",
              "      <td>1-2 Year</td>\n",
              "      <td>No</td>\n",
              "      <td>30170.0</td>\n",
              "      <td>26.0</td>\n",
              "      <td>88</td>\n",
              "      <td>0</td>\n",
              "    </tr>\n",
              "    <tr>\n",
              "      <th>381105</th>\n",
              "      <td>381106</td>\n",
              "      <td>Male</td>\n",
              "      <td>30</td>\n",
              "      <td>1</td>\n",
              "      <td>37.0</td>\n",
              "      <td>1</td>\n",
              "      <td>&lt; 1 Year</td>\n",
              "      <td>No</td>\n",
              "      <td>40016.0</td>\n",
              "      <td>152.0</td>\n",
              "      <td>131</td>\n",
              "      <td>0</td>\n",
              "    </tr>\n",
              "    <tr>\n",
              "      <th>381106</th>\n",
              "      <td>381107</td>\n",
              "      <td>Male</td>\n",
              "      <td>21</td>\n",
              "      <td>1</td>\n",
              "      <td>30.0</td>\n",
              "      <td>1</td>\n",
              "      <td>&lt; 1 Year</td>\n",
              "      <td>No</td>\n",
              "      <td>35118.0</td>\n",
              "      <td>160.0</td>\n",
              "      <td>161</td>\n",
              "      <td>0</td>\n",
              "    </tr>\n",
              "    <tr>\n",
              "      <th>381107</th>\n",
              "      <td>381108</td>\n",
              "      <td>Female</td>\n",
              "      <td>68</td>\n",
              "      <td>1</td>\n",
              "      <td>14.0</td>\n",
              "      <td>0</td>\n",
              "      <td>&gt; 2 Years</td>\n",
              "      <td>Yes</td>\n",
              "      <td>44617.0</td>\n",
              "      <td>124.0</td>\n",
              "      <td>74</td>\n",
              "      <td>0</td>\n",
              "    </tr>\n",
              "    <tr>\n",
              "      <th>381108</th>\n",
              "      <td>381109</td>\n",
              "      <td>Male</td>\n",
              "      <td>46</td>\n",
              "      <td>1</td>\n",
              "      <td>29.0</td>\n",
              "      <td>0</td>\n",
              "      <td>1-2 Year</td>\n",
              "      <td>No</td>\n",
              "      <td>41777.0</td>\n",
              "      <td>26.0</td>\n",
              "      <td>237</td>\n",
              "      <td>0</td>\n",
              "    </tr>\n",
              "  </tbody>\n",
              "</table>\n",
              "</div>\n",
              "      <button class=\"colab-df-convert\" onclick=\"convertToInteractive('df-5b72cb39-d53f-41aa-a34b-d37ad96b2d4f')\"\n",
              "              title=\"Convert this dataframe to an interactive table.\"\n",
              "              style=\"display:none;\">\n",
              "        \n",
              "  <svg xmlns=\"http://www.w3.org/2000/svg\" height=\"24px\"viewBox=\"0 0 24 24\"\n",
              "       width=\"24px\">\n",
              "    <path d=\"M0 0h24v24H0V0z\" fill=\"none\"/>\n",
              "    <path d=\"M18.56 5.44l.94 2.06.94-2.06 2.06-.94-2.06-.94-.94-2.06-.94 2.06-2.06.94zm-11 1L8.5 8.5l.94-2.06 2.06-.94-2.06-.94L8.5 2.5l-.94 2.06-2.06.94zm10 10l.94 2.06.94-2.06 2.06-.94-2.06-.94-.94-2.06-.94 2.06-2.06.94z\"/><path d=\"M17.41 7.96l-1.37-1.37c-.4-.4-.92-.59-1.43-.59-.52 0-1.04.2-1.43.59L10.3 9.45l-7.72 7.72c-.78.78-.78 2.05 0 2.83L4 21.41c.39.39.9.59 1.41.59.51 0 1.02-.2 1.41-.59l7.78-7.78 2.81-2.81c.8-.78.8-2.07 0-2.86zM5.41 20L4 18.59l7.72-7.72 1.47 1.35L5.41 20z\"/>\n",
              "  </svg>\n",
              "      </button>\n",
              "      \n",
              "  <style>\n",
              "    .colab-df-container {\n",
              "      display:flex;\n",
              "      flex-wrap:wrap;\n",
              "      gap: 12px;\n",
              "    }\n",
              "\n",
              "    .colab-df-convert {\n",
              "      background-color: #E8F0FE;\n",
              "      border: none;\n",
              "      border-radius: 50%;\n",
              "      cursor: pointer;\n",
              "      display: none;\n",
              "      fill: #1967D2;\n",
              "      height: 32px;\n",
              "      padding: 0 0 0 0;\n",
              "      width: 32px;\n",
              "    }\n",
              "\n",
              "    .colab-df-convert:hover {\n",
              "      background-color: #E2EBFA;\n",
              "      box-shadow: 0px 1px 2px rgba(60, 64, 67, 0.3), 0px 1px 3px 1px rgba(60, 64, 67, 0.15);\n",
              "      fill: #174EA6;\n",
              "    }\n",
              "\n",
              "    [theme=dark] .colab-df-convert {\n",
              "      background-color: #3B4455;\n",
              "      fill: #D2E3FC;\n",
              "    }\n",
              "\n",
              "    [theme=dark] .colab-df-convert:hover {\n",
              "      background-color: #434B5C;\n",
              "      box-shadow: 0px 1px 3px 1px rgba(0, 0, 0, 0.15);\n",
              "      filter: drop-shadow(0px 1px 2px rgba(0, 0, 0, 0.3));\n",
              "      fill: #FFFFFF;\n",
              "    }\n",
              "  </style>\n",
              "\n",
              "      <script>\n",
              "        const buttonEl =\n",
              "          document.querySelector('#df-5b72cb39-d53f-41aa-a34b-d37ad96b2d4f button.colab-df-convert');\n",
              "        buttonEl.style.display =\n",
              "          google.colab.kernel.accessAllowed ? 'block' : 'none';\n",
              "\n",
              "        async function convertToInteractive(key) {\n",
              "          const element = document.querySelector('#df-5b72cb39-d53f-41aa-a34b-d37ad96b2d4f');\n",
              "          const dataTable =\n",
              "            await google.colab.kernel.invokeFunction('convertToInteractive',\n",
              "                                                     [key], {});\n",
              "          if (!dataTable) return;\n",
              "\n",
              "          const docLinkHtml = 'Like what you see? Visit the ' +\n",
              "            '<a target=\"_blank\" href=https://colab.research.google.com/notebooks/data_table.ipynb>data table notebook</a>'\n",
              "            + ' to learn more about interactive tables.';\n",
              "          element.innerHTML = '';\n",
              "          dataTable['output_type'] = 'display_data';\n",
              "          await google.colab.output.renderOutput(dataTable, element);\n",
              "          const docLink = document.createElement('div');\n",
              "          docLink.innerHTML = docLinkHtml;\n",
              "          element.appendChild(docLink);\n",
              "        }\n",
              "      </script>\n",
              "    </div>\n",
              "  </div>\n",
              "  "
            ],
            "text/plain": [
              "            id  Gender  Age  ...  Policy_Sales_Channel  Vintage  Response\n",
              "381104  381105    Male   74  ...                  26.0       88         0\n",
              "381105  381106    Male   30  ...                 152.0      131         0\n",
              "381106  381107    Male   21  ...                 160.0      161         0\n",
              "381107  381108  Female   68  ...                 124.0       74         0\n",
              "381108  381109    Male   46  ...                  26.0      237         0\n",
              "\n",
              "[5 rows x 12 columns]"
            ]
          },
          "metadata": {},
          "execution_count": 5
        }
      ]
    },
    {
      "cell_type": "code",
      "source": [
        "# lets check shape, null values and datatypes,\n",
        "print(data.info())\n",
        "print()\n",
        "print(data.isna().sum())"
      ],
      "metadata": {
        "colab": {
          "base_uri": "https://localhost:8080/"
        },
        "id": "CqhycioyPbxx",
        "outputId": "fe9c1e36-0935-4534-e5b0-8ab1664d3e17"
      },
      "execution_count": 6,
      "outputs": [
        {
          "output_type": "stream",
          "name": "stdout",
          "text": [
            "<class 'pandas.core.frame.DataFrame'>\n",
            "RangeIndex: 381109 entries, 0 to 381108\n",
            "Data columns (total 12 columns):\n",
            " #   Column                Non-Null Count   Dtype  \n",
            "---  ------                --------------   -----  \n",
            " 0   id                    381109 non-null  int64  \n",
            " 1   Gender                381109 non-null  object \n",
            " 2   Age                   381109 non-null  int64  \n",
            " 3   Driving_License       381109 non-null  int64  \n",
            " 4   Region_Code           381109 non-null  float64\n",
            " 5   Previously_Insured    381109 non-null  int64  \n",
            " 6   Vehicle_Age           381109 non-null  object \n",
            " 7   Vehicle_Damage        381109 non-null  object \n",
            " 8   Annual_Premium        381109 non-null  float64\n",
            " 9   Policy_Sales_Channel  381109 non-null  float64\n",
            " 10  Vintage               381109 non-null  int64  \n",
            " 11  Response              381109 non-null  int64  \n",
            "dtypes: float64(3), int64(6), object(3)\n",
            "memory usage: 34.9+ MB\n",
            "None\n",
            "\n",
            "id                      0\n",
            "Gender                  0\n",
            "Age                     0\n",
            "Driving_License         0\n",
            "Region_Code             0\n",
            "Previously_Insured      0\n",
            "Vehicle_Age             0\n",
            "Vehicle_Damage          0\n",
            "Annual_Premium          0\n",
            "Policy_Sales_Channel    0\n",
            "Vintage                 0\n",
            "Response                0\n",
            "dtype: int64\n"
          ]
        }
      ]
    },
    {
      "cell_type": "markdown",
      "source": [
        "As per above observation we can say that : Dataset consists of 381109 rows & 12 columns. There are no Null or missing values present in the dataset."
      ],
      "metadata": {
        "id": "ows5LuPuPnLD"
      }
    },
    {
      "cell_type": "code",
      "source": [
        "# Descriptive Statistical Summary of Numeric Variables\n",
        "\n",
        "data.describe()"
      ],
      "metadata": {
        "colab": {
          "base_uri": "https://localhost:8080/",
          "height": 300
        },
        "id": "8hzjgrvfQAw1",
        "outputId": "af1267c0-20bf-4ed7-9050-a79c14a01f0c"
      },
      "execution_count": 7,
      "outputs": [
        {
          "output_type": "execute_result",
          "data": {
            "text/html": [
              "\n",
              "  <div id=\"df-5c2c4c64-bc0f-456d-8c27-1191a61acacc\">\n",
              "    <div class=\"colab-df-container\">\n",
              "      <div>\n",
              "<style scoped>\n",
              "    .dataframe tbody tr th:only-of-type {\n",
              "        vertical-align: middle;\n",
              "    }\n",
              "\n",
              "    .dataframe tbody tr th {\n",
              "        vertical-align: top;\n",
              "    }\n",
              "\n",
              "    .dataframe thead th {\n",
              "        text-align: right;\n",
              "    }\n",
              "</style>\n",
              "<table border=\"1\" class=\"dataframe\">\n",
              "  <thead>\n",
              "    <tr style=\"text-align: right;\">\n",
              "      <th></th>\n",
              "      <th>id</th>\n",
              "      <th>Age</th>\n",
              "      <th>Driving_License</th>\n",
              "      <th>Region_Code</th>\n",
              "      <th>Previously_Insured</th>\n",
              "      <th>Annual_Premium</th>\n",
              "      <th>Policy_Sales_Channel</th>\n",
              "      <th>Vintage</th>\n",
              "      <th>Response</th>\n",
              "    </tr>\n",
              "  </thead>\n",
              "  <tbody>\n",
              "    <tr>\n",
              "      <th>count</th>\n",
              "      <td>381109.000000</td>\n",
              "      <td>381109.000000</td>\n",
              "      <td>381109.000000</td>\n",
              "      <td>381109.000000</td>\n",
              "      <td>381109.000000</td>\n",
              "      <td>381109.000000</td>\n",
              "      <td>381109.000000</td>\n",
              "      <td>381109.000000</td>\n",
              "      <td>381109.000000</td>\n",
              "    </tr>\n",
              "    <tr>\n",
              "      <th>mean</th>\n",
              "      <td>190555.000000</td>\n",
              "      <td>38.822584</td>\n",
              "      <td>0.997869</td>\n",
              "      <td>26.388807</td>\n",
              "      <td>0.458210</td>\n",
              "      <td>30564.389581</td>\n",
              "      <td>112.034295</td>\n",
              "      <td>154.347397</td>\n",
              "      <td>0.122563</td>\n",
              "    </tr>\n",
              "    <tr>\n",
              "      <th>std</th>\n",
              "      <td>110016.836208</td>\n",
              "      <td>15.511611</td>\n",
              "      <td>0.046110</td>\n",
              "      <td>13.229888</td>\n",
              "      <td>0.498251</td>\n",
              "      <td>17213.155057</td>\n",
              "      <td>54.203995</td>\n",
              "      <td>83.671304</td>\n",
              "      <td>0.327936</td>\n",
              "    </tr>\n",
              "    <tr>\n",
              "      <th>min</th>\n",
              "      <td>1.000000</td>\n",
              "      <td>20.000000</td>\n",
              "      <td>0.000000</td>\n",
              "      <td>0.000000</td>\n",
              "      <td>0.000000</td>\n",
              "      <td>2630.000000</td>\n",
              "      <td>1.000000</td>\n",
              "      <td>10.000000</td>\n",
              "      <td>0.000000</td>\n",
              "    </tr>\n",
              "    <tr>\n",
              "      <th>25%</th>\n",
              "      <td>95278.000000</td>\n",
              "      <td>25.000000</td>\n",
              "      <td>1.000000</td>\n",
              "      <td>15.000000</td>\n",
              "      <td>0.000000</td>\n",
              "      <td>24405.000000</td>\n",
              "      <td>29.000000</td>\n",
              "      <td>82.000000</td>\n",
              "      <td>0.000000</td>\n",
              "    </tr>\n",
              "    <tr>\n",
              "      <th>50%</th>\n",
              "      <td>190555.000000</td>\n",
              "      <td>36.000000</td>\n",
              "      <td>1.000000</td>\n",
              "      <td>28.000000</td>\n",
              "      <td>0.000000</td>\n",
              "      <td>31669.000000</td>\n",
              "      <td>133.000000</td>\n",
              "      <td>154.000000</td>\n",
              "      <td>0.000000</td>\n",
              "    </tr>\n",
              "    <tr>\n",
              "      <th>75%</th>\n",
              "      <td>285832.000000</td>\n",
              "      <td>49.000000</td>\n",
              "      <td>1.000000</td>\n",
              "      <td>35.000000</td>\n",
              "      <td>1.000000</td>\n",
              "      <td>39400.000000</td>\n",
              "      <td>152.000000</td>\n",
              "      <td>227.000000</td>\n",
              "      <td>0.000000</td>\n",
              "    </tr>\n",
              "    <tr>\n",
              "      <th>max</th>\n",
              "      <td>381109.000000</td>\n",
              "      <td>85.000000</td>\n",
              "      <td>1.000000</td>\n",
              "      <td>52.000000</td>\n",
              "      <td>1.000000</td>\n",
              "      <td>540165.000000</td>\n",
              "      <td>163.000000</td>\n",
              "      <td>299.000000</td>\n",
              "      <td>1.000000</td>\n",
              "    </tr>\n",
              "  </tbody>\n",
              "</table>\n",
              "</div>\n",
              "      <button class=\"colab-df-convert\" onclick=\"convertToInteractive('df-5c2c4c64-bc0f-456d-8c27-1191a61acacc')\"\n",
              "              title=\"Convert this dataframe to an interactive table.\"\n",
              "              style=\"display:none;\">\n",
              "        \n",
              "  <svg xmlns=\"http://www.w3.org/2000/svg\" height=\"24px\"viewBox=\"0 0 24 24\"\n",
              "       width=\"24px\">\n",
              "    <path d=\"M0 0h24v24H0V0z\" fill=\"none\"/>\n",
              "    <path d=\"M18.56 5.44l.94 2.06.94-2.06 2.06-.94-2.06-.94-.94-2.06-.94 2.06-2.06.94zm-11 1L8.5 8.5l.94-2.06 2.06-.94-2.06-.94L8.5 2.5l-.94 2.06-2.06.94zm10 10l.94 2.06.94-2.06 2.06-.94-2.06-.94-.94-2.06-.94 2.06-2.06.94z\"/><path d=\"M17.41 7.96l-1.37-1.37c-.4-.4-.92-.59-1.43-.59-.52 0-1.04.2-1.43.59L10.3 9.45l-7.72 7.72c-.78.78-.78 2.05 0 2.83L4 21.41c.39.39.9.59 1.41.59.51 0 1.02-.2 1.41-.59l7.78-7.78 2.81-2.81c.8-.78.8-2.07 0-2.86zM5.41 20L4 18.59l7.72-7.72 1.47 1.35L5.41 20z\"/>\n",
              "  </svg>\n",
              "      </button>\n",
              "      \n",
              "  <style>\n",
              "    .colab-df-container {\n",
              "      display:flex;\n",
              "      flex-wrap:wrap;\n",
              "      gap: 12px;\n",
              "    }\n",
              "\n",
              "    .colab-df-convert {\n",
              "      background-color: #E8F0FE;\n",
              "      border: none;\n",
              "      border-radius: 50%;\n",
              "      cursor: pointer;\n",
              "      display: none;\n",
              "      fill: #1967D2;\n",
              "      height: 32px;\n",
              "      padding: 0 0 0 0;\n",
              "      width: 32px;\n",
              "    }\n",
              "\n",
              "    .colab-df-convert:hover {\n",
              "      background-color: #E2EBFA;\n",
              "      box-shadow: 0px 1px 2px rgba(60, 64, 67, 0.3), 0px 1px 3px 1px rgba(60, 64, 67, 0.15);\n",
              "      fill: #174EA6;\n",
              "    }\n",
              "\n",
              "    [theme=dark] .colab-df-convert {\n",
              "      background-color: #3B4455;\n",
              "      fill: #D2E3FC;\n",
              "    }\n",
              "\n",
              "    [theme=dark] .colab-df-convert:hover {\n",
              "      background-color: #434B5C;\n",
              "      box-shadow: 0px 1px 3px 1px rgba(0, 0, 0, 0.15);\n",
              "      filter: drop-shadow(0px 1px 2px rgba(0, 0, 0, 0.3));\n",
              "      fill: #FFFFFF;\n",
              "    }\n",
              "  </style>\n",
              "\n",
              "      <script>\n",
              "        const buttonEl =\n",
              "          document.querySelector('#df-5c2c4c64-bc0f-456d-8c27-1191a61acacc button.colab-df-convert');\n",
              "        buttonEl.style.display =\n",
              "          google.colab.kernel.accessAllowed ? 'block' : 'none';\n",
              "\n",
              "        async function convertToInteractive(key) {\n",
              "          const element = document.querySelector('#df-5c2c4c64-bc0f-456d-8c27-1191a61acacc');\n",
              "          const dataTable =\n",
              "            await google.colab.kernel.invokeFunction('convertToInteractive',\n",
              "                                                     [key], {});\n",
              "          if (!dataTable) return;\n",
              "\n",
              "          const docLinkHtml = 'Like what you see? Visit the ' +\n",
              "            '<a target=\"_blank\" href=https://colab.research.google.com/notebooks/data_table.ipynb>data table notebook</a>'\n",
              "            + ' to learn more about interactive tables.';\n",
              "          element.innerHTML = '';\n",
              "          dataTable['output_type'] = 'display_data';\n",
              "          await google.colab.output.renderOutput(dataTable, element);\n",
              "          const docLink = document.createElement('div');\n",
              "          docLink.innerHTML = docLinkHtml;\n",
              "          element.appendChild(docLink);\n",
              "        }\n",
              "      </script>\n",
              "    </div>\n",
              "  </div>\n",
              "  "
            ],
            "text/plain": [
              "                  id            Age  ...        Vintage       Response\n",
              "count  381109.000000  381109.000000  ...  381109.000000  381109.000000\n",
              "mean   190555.000000      38.822584  ...     154.347397       0.122563\n",
              "std    110016.836208      15.511611  ...      83.671304       0.327936\n",
              "min         1.000000      20.000000  ...      10.000000       0.000000\n",
              "25%     95278.000000      25.000000  ...      82.000000       0.000000\n",
              "50%    190555.000000      36.000000  ...     154.000000       0.000000\n",
              "75%    285832.000000      49.000000  ...     227.000000       0.000000\n",
              "max    381109.000000      85.000000  ...     299.000000       1.000000\n",
              "\n",
              "[8 rows x 9 columns]"
            ]
          },
          "metadata": {},
          "execution_count": 7
        }
      ]
    },
    {
      "cell_type": "markdown",
      "source": [
        "# Data analysis and visualizations"
      ],
      "metadata": {
        "id": "dFHEZyv4SdkA"
      }
    },
    {
      "cell_type": "markdown",
      "metadata": {
        "id": "eH2Wcqk1zu27"
      },
      "source": [
        "##### Analysis of target variable 'response per count'"
      ]
    },
    {
      "cell_type": "code",
      "metadata": {
        "id": "cWNmk8TBSvja",
        "colab": {
          "base_uri": "https://localhost:8080/",
          "height": 360
        },
        "outputId": "a4acc184-c591-4c0d-93f3-f94c8f617ccc"
      },
      "source": [
        "# Analyzing by plotting countplot\n",
        "sns.set_theme(style='whitegrid')\n",
        "sns.countplot(data['Response'],data=data)"
      ],
      "execution_count": 8,
      "outputs": [
        {
          "output_type": "stream",
          "name": "stderr",
          "text": [
            "/usr/local/lib/python3.7/dist-packages/seaborn/_decorators.py:43: FutureWarning: Pass the following variable as a keyword arg: x. From version 0.12, the only valid positional argument will be `data`, and passing other arguments without an explicit keyword will result in an error or misinterpretation.\n",
            "  FutureWarning\n"
          ]
        },
        {
          "output_type": "execute_result",
          "data": {
            "text/plain": [
              "<matplotlib.axes._subplots.AxesSubplot at 0x7f9d18ee2410>"
            ]
          },
          "metadata": {},
          "execution_count": 8
        },
        {
          "output_type": "display_data",
          "data": {
            "image/png": "[encoded data removed]",
            "text/plain": [
              "<Figure size 432x288 with 1 Axes>"
            ]
          },
          "metadata": {}
        }
      ]
    },
    {
      "cell_type": "markdown",
      "metadata": {
        "id": "L03HgoO-z3jx"
      },
      "source": [
        "* As per above observation, we can say that data is highly imbalanced"
      ]
    },
    {
      "cell_type": "markdown",
      "metadata": {
        "id": "wYyGY2np6sM0"
      },
      "source": [
        "##### Analysis of Age vs Response"
      ]
    },
    {
      "cell_type": "code",
      "metadata": {
        "id": "cniTlZtO6scs",
        "colab": {
          "base_uri": "https://localhost:8080/",
          "height": 628
        },
        "outputId": "b598d3a0-52f1-4d06-a93f-ca91d461cd83"
      },
      "source": [
        "# Analysis of Age & Response\n",
        "plt.figure(figsize=(20,10))\n",
        "sns.countplot(x='Age',hue='Response',data=data)"
      ],
      "execution_count": 9,
      "outputs": [
        {
          "output_type": "execute_result",
          "data": {
            "text/plain": [
              "<matplotlib.axes._subplots.AxesSubplot at 0x7f9d22926f10>"
            ]
          },
          "metadata": {},
          "execution_count": 9
        },
        {
          "output_type": "display_data",
          "data": {
            "image/png": "[encoded data removed]",
            "text/plain": [
              "<Figure size 1440x720 with 1 Axes>"
            ]
          },
          "metadata": {}
        }
      ]
    },
    {
      "cell_type": "code",
      "metadata": {
        "id": "VrVmn9KvAEfL",
        "colab": {
          "base_uri": "https://localhost:8080/",
          "height": 357
        },
        "outputId": "fef76f7d-301c-4bea-b3d9-b084349fba3e"
      },
      "source": [
        "sns.violinplot(data['Age'])"
      ],
      "execution_count": 10,
      "outputs": [
        {
          "output_type": "stream",
          "name": "stderr",
          "text": [
            "/usr/local/lib/python3.7/dist-packages/seaborn/_decorators.py:43: FutureWarning: Pass the following variable as a keyword arg: x. From version 0.12, the only valid positional argument will be `data`, and passing other arguments without an explicit keyword will result in an error or misinterpretation.\n",
            "  FutureWarning\n"
          ]
        },
        {
          "output_type": "execute_result",
          "data": {
            "text/plain": [
              "<matplotlib.axes._subplots.AxesSubplot at 0x7f9d176835d0>"
            ]
          },
          "metadata": {},
          "execution_count": 10
        },
        {
          "output_type": "display_data",
          "data": {
            "image/png": "[encoded data removed]",
            "text/plain": [
              "<Figure size 432x288 with 1 Axes>"
            ]
          },
          "metadata": {}
        }
      ]
    },
    {
      "cell_type": "markdown",
      "metadata": {
        "id": "jMYUuYtd0-x_"
      },
      "source": [
        "* Youngsters under 30 are not intrigued by vehicle insurance. Reasons could be absence of involvement, less awareness about insurance and they may not have costly vehicles yet.\n",
        "* People of age range between 30-60 years are more likely to be interested and willing to purchase.\n",
        "* From the plot we can say that there are no outlier in the given ."
      ]
    },
    {
      "cell_type": "markdown",
      "metadata": {
        "id": "_oKYS906Spq3"
      },
      "source": [
        "##### Anlysis of Vehicle_Age w.r.t Response"
      ]
    },
    {
      "cell_type": "code",
      "metadata": {
        "id": "Zz21SxeN7dN2",
        "colab": {
          "base_uri": "https://localhost:8080/",
          "height": 302
        },
        "outputId": "d4e6be3b-f172-4292-a758-8e6d3f36af81"
      },
      "source": [
        "sns.countplot(x='Vehicle_Age',hue='Response',data=data,palette='gnuplot2_r')"
      ],
      "execution_count": 11,
      "outputs": [
        {
          "output_type": "execute_result",
          "data": {
            "text/plain": [
              "<matplotlib.axes._subplots.AxesSubplot at 0x7f9d0ee61e50>"
            ]
          },
          "metadata": {},
          "execution_count": 11
        },
        {
          "output_type": "display_data",
          "data": {
            "image/png": "[encoded data removed]",
            "text/plain": [
              "<Figure size 432x288 with 1 Axes>"
            ]
          },
          "metadata": {}
        }
      ]
    },
    {
      "cell_type": "markdown",
      "metadata": {
        "id": "KGdyt5pU_7Q6"
      },
      "source": [
        "* Consumers with 1-2-year-old vehicles are more interested as compared to others.\n",
        "\n",
        "* Consumers with less than 1 year old Vehicles have very less chance of buying Insurance"
      ]
    },
    {
      "cell_type": "markdown",
      "metadata": {
        "id": "-59jw_kZSgZ0"
      },
      "source": [
        "##### Analyze : Previously_Insured w.r.t Response"
      ]
    },
    {
      "cell_type": "code",
      "metadata": {
        "id": "O7CdTC4t7MVR",
        "colab": {
          "base_uri": "https://localhost:8080/",
          "height": 302
        },
        "outputId": "f63fb3a7-908f-4435-9d3b-afc41a421826"
      },
      "source": [
        "# Response analysis of previously insured customers from plot\n",
        "sns.countplot(x='Previously_Insured',hue='Response',data=data,palette='gist_earth')"
      ],
      "execution_count": 12,
      "outputs": [
        {
          "output_type": "execute_result",
          "data": {
            "text/plain": [
              "<matplotlib.axes._subplots.AxesSubplot at 0x7f9d0edcd890>"
            ]
          },
          "metadata": {},
          "execution_count": 12
        },
        {
          "output_type": "display_data",
          "data": {
            "image/png": "[encoded data removed]",
            "text/plain": [
              "<Figure size 432x288 with 1 Axes>"
            ]
          },
          "metadata": {}
        }
      ]
    },
    {
      "cell_type": "markdown",
      "metadata": {
        "id": "hpNv8rSfCotD"
      },
      "source": [
        "* Consumers who are not previously insured are probably interested"
      ]
    },
    {
      "cell_type": "markdown",
      "metadata": {
        "id": "lr7gDrXc5N25"
      },
      "source": [
        "##### Analysis based on Gender"
      ]
    },
    {
      "cell_type": "code",
      "metadata": {
        "id": "BcwrR26ez2wM",
        "colab": {
          "base_uri": "https://localhost:8080/",
          "height": 444
        },
        "outputId": "365f9ac3-321d-4560-dd5e-bc44e6634721"
      },
      "source": [
        "# Analyzing gender by plotting countplot\n",
        "plt.figure(figsize = (13,5))\n",
        "plt.subplot(1,2,1)\n",
        "sns.countplot(data['Gender'],palette='CMRmap')\n",
        "plt.title(\"count of male and female\")\n",
        "plt.subplot(1,2,2)\n",
        "sns.countplot(data['Gender'], hue = data['Response'],palette='CMRmap')\n",
        "plt.title(\"Response in Male and female category\")\n",
        "plt.show()"
      ],
      "execution_count": 13,
      "outputs": [
        {
          "output_type": "stream",
          "name": "stderr",
          "text": [
            "/usr/local/lib/python3.7/dist-packages/seaborn/_decorators.py:43: FutureWarning: Pass the following variable as a keyword arg: x. From version 0.12, the only valid positional argument will be `data`, and passing other arguments without an explicit keyword will result in an error or misinterpretation.\n",
            "  FutureWarning\n",
            "/usr/local/lib/python3.7/dist-packages/seaborn/_decorators.py:43: FutureWarning: Pass the following variable as a keyword arg: x. From version 0.12, the only valid positional argument will be `data`, and passing other arguments without an explicit keyword will result in an error or misinterpretation.\n",
            "  FutureWarning\n"
          ]
        },
        {
          "output_type": "display_data",
          "data": {
            "image/png": "[encoded data removed]",
            "text/plain": [
              "<Figure size 936x360 with 2 Axes>"
            ]
          },
          "metadata": {}
        }
      ]
    },
    {
      "cell_type": "markdown",
      "metadata": {
        "id": "v7rwMgtZ-Wfc"
      },
      "source": [
        "* We observed the similairty in distribution of Gender variables.\n",
        "* Male category is somewhat more noteworthy than that of female and chances of purchasing the insurance is likewise minimal high."
      ]
    },
    {
      "cell_type": "markdown",
      "source": [
        "Analysis on Driving License"
      ],
      "metadata": {
        "id": "qd978J-X3b7g"
      }
    },
    {
      "cell_type": "code",
      "source": [
        "# Plotting countplot for Anlysis\n",
        "sns.countplot(x='Driving_License',hue='Response', data=data, palette='BuPu')"
      ],
      "metadata": {
        "colab": {
          "base_uri": "https://localhost:8080/",
          "height": 306
        },
        "id": "6vzP5hBx3dVb",
        "outputId": "b0cd631b-5bc1-41a3-fbc8-84098aeb7c45"
      },
      "execution_count": 14,
      "outputs": [
        {
          "output_type": "execute_result",
          "data": {
            "text/plain": [
              "<matplotlib.axes._subplots.AxesSubplot at 0x7f9d0ed0c750>"
            ]
          },
          "metadata": {},
          "execution_count": 14
        },
        {
          "output_type": "display_data",
          "data": {
            "image/png": "[encoded data removed]",
            "text/plain": [
              "<Figure size 432x288 with 1 Axes>"
            ]
          },
          "metadata": {}
        }
      ]
    },
    {
      "cell_type": "markdown",
      "metadata": {
        "id": "7tO6gGu2_enH"
      },
      "source": [
        "* Customers most of them who showed interest in Vehicle Insurance, already  have driving license"
      ]
    },
    {
      "cell_type": "markdown",
      "metadata": {
        "id": "NnDIcxPrBcWV"
      },
      "source": [
        "##### Analysis based on Annual_Premium\n"
      ]
    },
    {
      "cell_type": "code",
      "metadata": {
        "id": "EjKHCL-bBben",
        "colab": {
          "base_uri": "https://localhost:8080/",
          "height": 502
        },
        "outputId": "f2aa1f7f-1ae1-4492-d887-2816a6b4387a"
      },
      "source": [
        "# Distribution of Annual premium\n",
        "plt.figure(figsize=(14,6))\n",
        "plt.subplot(2,1,1)\n",
        "sns.kdeplot(data['Annual_Premium'], color='blue')\n",
        "plt.title(\"Distribution of Annual premium\")\n",
        "plt.show()\n",
        "\n",
        "# Boxplot of Annual premium\n",
        "plt.figure(figsize=(14,6))\n",
        "plt.subplot(2,1,2)\n",
        "sns.boxplot(data['Annual_Premium'])\n",
        "plt.title(\"boxplot of Annual premium\")\n",
        "plt.show()"
      ],
      "execution_count": 15,
      "outputs": [
        {
          "output_type": "display_data",
          "data": {
            "image/png": "[encoded data removed]",
            "text/plain": [
              "<Figure size 1008x432 with 1 Axes>"
            ]
          },
          "metadata": {}
        },
        {
          "output_type": "stream",
          "name": "stderr",
          "text": [
            "/usr/local/lib/python3.7/dist-packages/seaborn/_decorators.py:43: FutureWarning: Pass the following variable as a keyword arg: x. From version 0.12, the only valid positional argument will be `data`, and passing other arguments without an explicit keyword will result in an error or misinterpretation.\n",
            "  FutureWarning\n"
          ]
        },
        {
          "output_type": "display_data",
          "data": {
            "image/png": "[encoded data removed]",
            "text/plain": [
              "<Figure size 1008x432 with 1 Axes>"
            ]
          },
          "metadata": {}
        }
      ]
    },
    {
      "cell_type": "markdown",
      "metadata": {
        "id": "yhO_L4_UCKUM"
      },
      "source": [
        "\n",
        "* Its observed from the distribution plot, that the annual premimum feature is right skewed.\n",
        "* we can observe lot of outliers in the variables from above boxplot."
      ]
    },
    {
      "cell_type": "markdown",
      "metadata": {
        "id": "NlaYpu4YC6VZ"
      },
      "source": [
        "##### Defining Correlation "
      ]
    },
    {
      "cell_type": "code",
      "metadata": {
        "id": "ZJWdHzibC6jL",
        "colab": {
          "base_uri": "https://localhost:8080/",
          "height": 681
        },
        "outputId": "60e4de3e-76bc-42fe-9b5c-46e3454bb5e0"
      },
      "source": [
        "# Plotting heatmap to find correlation\n",
        "corr = data.corr()\n",
        "f, ax = plt.subplots(figsize=(9,9))\n",
        "sns.heatmap(corr, ax=ax, annot=True,linewidths=5,cmap='YlOrRd')\n",
        "plt.title(\"Correlation of Variables\", y=1, size=14)"
      ],
      "execution_count": 16,
      "outputs": [
        {
          "output_type": "execute_result",
          "data": {
            "text/plain": [
              "Text(0.5, 1, 'Correlation of Variables')"
            ]
          },
          "metadata": {},
          "execution_count": 16
        },
        {
          "output_type": "display_data",
          "data": {
            "image/png": "[encoded data removed]",
            "text/plain": [
              "<Figure size 648x648 with 2 Axes>"
            ]
          },
          "metadata": {}
        }
      ]
    },
    {
      "cell_type": "markdown",
      "metadata": {
        "id": "yuime_De5rqX"
      },
      "source": [
        "*   Vintage features's is not much affecting Target variable. So we can drop such a least correlated features's."
      ]
    },
    {
      "cell_type": "markdown",
      "source": [
        "# Data preparatoin, handling and feature creation."
      ],
      "metadata": {
        "id": "-_T7oWYLsCJm"
      }
    },
    {
      "cell_type": "markdown",
      "source": [
        "#### Encoding of label "
      ],
      "metadata": {
        "id": "Buwl6cr3vV4E"
      }
    },
    {
      "cell_type": "code",
      "source": [
        "# categorical value's are cahnged to numerical values\n",
        "labelEncoder= LabelEncoder()\n",
        "data['Gender'] = labelEncoder.fit_transform(data['Gender'])\n",
        "data['Vehicle_Age'] = labelEncoder.fit_transform(data['Vehicle_Age'])\n",
        "data['Vehicle_Damage'] = labelEncoder.fit_transform(data['Vehicle_Damage'])"
      ],
      "metadata": {
        "id": "hXcxNxNUsW8c"
      },
      "execution_count": 17,
      "outputs": []
    },
    {
      "cell_type": "code",
      "source": [
        "# We can see the types of datatype \n",
        "data.dtypes"
      ],
      "metadata": {
        "colab": {
          "base_uri": "https://localhost:8080/"
        },
        "id": "MDT7hP8jt7ra",
        "outputId": "ed7bb1da-778c-4845-ee16-48b44f846c1c"
      },
      "execution_count": 18,
      "outputs": [
        {
          "output_type": "execute_result",
          "data": {
            "text/plain": [
              "id                        int64\n",
              "Gender                    int64\n",
              "Age                       int64\n",
              "Driving_License           int64\n",
              "Region_Code             float64\n",
              "Previously_Insured        int64\n",
              "Vehicle_Age               int64\n",
              "Vehicle_Damage            int64\n",
              "Annual_Premium          float64\n",
              "Policy_Sales_Channel    float64\n",
              "Vintage                   int64\n",
              "Response                  int64\n",
              "dtype: object"
            ]
          },
          "metadata": {},
          "execution_count": 18
        }
      ]
    },
    {
      "cell_type": "markdown",
      "source": [
        "#### Let's find the duplicate rows"
      ],
      "metadata": {
        "id": "-H1bk4LUvkkB"
      }
    },
    {
      "cell_type": "code",
      "source": [
        "# Identifying Duplicate rows\n",
        "duplicate=data[data.duplicated()]\n",
        "print(duplicate)"
      ],
      "metadata": {
        "id": "NC4s-7lvvvxr",
        "colab": {
          "base_uri": "https://localhost:8080/"
        },
        "outputId": "0a495dc9-69c7-4ef5-ac97-57a1e29eb4ed"
      },
      "execution_count": 19,
      "outputs": [
        {
          "output_type": "stream",
          "name": "stdout",
          "text": [
            "Empty DataFrame\n",
            "Columns: [id, Gender, Age, Driving_License, Region_Code, Previously_Insured, Vehicle_Age, Vehicle_Damage, Annual_Premium, Policy_Sales_Channel, Vintage, Response]\n",
            "Index: []\n"
          ]
        }
      ]
    },
    {
      "cell_type": "markdown",
      "source": [
        "No duplicate rows are identified."
      ],
      "metadata": {
        "id": "PWyNYLiqv2cC"
      }
    },
    {
      "cell_type": "markdown",
      "source": [
        "#### Sepration of dependent and independent variables and feature creation"
      ],
      "metadata": {
        "id": "uJa6PSqUwzxM"
      }
    },
    {
      "cell_type": "code",
      "source": [
        "# Sepration of dependent and independent variables.\n",
        "\n",
        "x=data.drop(['Response'],axis=1)                                # independent variable\n",
        "\n",
        "y=data['Response']                                              # dependent variable"
      ],
      "metadata": {
        "id": "40qVMMA_w64r"
      },
      "execution_count": 20,
      "outputs": []
    },
    {
      "cell_type": "markdown",
      "source": [
        "#### Feature Selection"
      ],
      "metadata": {
        "id": "k5TAzWILxRIy"
      }
    },
    {
      "cell_type": "code",
      "source": [
        "# Implements a meta estimator that fits a number of randomized decision trees on various sub-samples of the dataset and uses averaging to improve the predictive accuracy and control over-fitting.\n",
        "\n",
        "from sklearn.ensemble import ExtraTreesClassifier\n",
        "model = ExtraTreesClassifier()\n",
        "model.fit(x,y)\n",
        "print(model.feature_importances_) # using inbuilt classs feature_importances of tree based classs\n",
        "\n"
      ],
      "metadata": {
        "colab": {
          "base_uri": "https://localhost:8080/"
        },
        "id": "sTUcgot8xP6l",
        "outputId": "a987cd1a-678b-4119-d0e6-81514fee200f"
      },
      "execution_count": 21,
      "outputs": [
        {
          "output_type": "stream",
          "name": "stdout",
          "text": [
            "[0.19291492 0.00544315 0.13786652 0.00046171 0.09588785 0.05117389\n",
            " 0.01705754 0.07964949 0.1631783  0.06980876 0.18655788]\n"
          ]
        }
      ]
    },
    {
      "cell_type": "code",
      "source": [
        "# visualization by plotting the graph of feature importances for better understanding\n",
        "\n",
        "feat_importances = pd.Series(model.feature_importances_, index=x.columns)\n",
        "feat_importances.nlargest(11).plot(kind='bar')\n",
        "plt.show()"
      ],
      "metadata": {
        "colab": {
          "base_uri": "https://localhost:8080/",
          "height": 377
        },
        "id": "XhKLpCCOB5Ow",
        "outputId": "1bece123-4722-4b8f-ddd2-52622d00daf4"
      },
      "execution_count": 22,
      "outputs": [
        {
          "output_type": "display_data",
          "data": {
            "image/png": "[encoded data removed]",
            "text/plain": [
              "<Figure size 432x288 with 1 Axes>"
            ]
          },
          "metadata": {}
        }
      ]
    },
    {
      "cell_type": "code",
      "source": [
        "# Lets remove less important features from the data set such as Driving licence and gender.\n",
        "\n",
        "x=x.drop(['Driving_License','Gender'],axis=1)"
      ],
      "metadata": {
        "id": "c5gCM4ThAHlJ"
      },
      "execution_count": 23,
      "outputs": []
    },
    {
      "cell_type": "markdown",
      "source": [
        "#### We will Handle the Imbalanced data and resample\n",
        "\n",
        "With the use of resampling  we will resolve class imbalance.\n",
        "At the point when observations in one class is higher than the observations in different classes then there exists a class imbalance. We can see that there is a colossal distinction between the informational index.\n"
      ],
      "metadata": {
        "id": "PnfOTuGXCyle"
      }
    },
    {
      "cell_type": "code",
      "source": [
        "randomsample = RandomOverSampler()\n",
        "x_new, y_new=randomsample.fit_resample(x,y)\n",
        "\n",
        "from collections import Counter\n",
        "print('Original dataset shape {}'.format(Counter(y)))\n",
        "print('Resampled dataset shape {}'.format(Counter(y_new)))\n",
        "sns.countplot(y_new,palette='husl')"
      ],
      "metadata": {
        "colab": {
          "base_uri": "https://localhost:8080/",
          "height": 395
        },
        "id": "olQ8-o8hEPW8",
        "outputId": "eca29518-30b6-41ce-c94a-0d7f93d7960c"
      },
      "execution_count": 24,
      "outputs": [
        {
          "output_type": "stream",
          "name": "stdout",
          "text": [
            "Original dataset shape Counter({0: 334399, 1: 46710})\n",
            "Resampled dataset shape Counter({1: 334399, 0: 334399})\n"
          ]
        },
        {
          "output_type": "stream",
          "name": "stderr",
          "text": [
            "/usr/local/lib/python3.7/dist-packages/seaborn/_decorators.py:43: FutureWarning: Pass the following variable as a keyword arg: x. From version 0.12, the only valid positional argument will be `data`, and passing other arguments without an explicit keyword will result in an error or misinterpretation.\n",
            "  FutureWarning\n"
          ]
        },
        {
          "output_type": "execute_result",
          "data": {
            "text/plain": [
              "<matplotlib.axes._subplots.AxesSubplot at 0x7f9d0d1db150>"
            ]
          },
          "metadata": {},
          "execution_count": 24
        },
        {
          "output_type": "display_data",
          "data": {
            "image/png": "[encoded data removed]",
            "text/plain": [
              "<Figure size 432x288 with 1 Axes>"
            ]
          },
          "metadata": {}
        }
      ]
    },
    {
      "cell_type": "markdown",
      "metadata": {
        "id": "a5E91XeazrSO"
      },
      "source": [
        "#### Lets split the Data into train and test sets of data."
      ]
    },
    {
      "cell_type": "code",
      "metadata": {
        "id": "6OO-iSJ5z1G7",
        "colab": {
          "base_uri": "https://localhost:8080/"
        },
        "outputId": "b5d3f231-3ae5-48fd-8812-87da7580c158"
      },
      "source": [
        "# splitting the dataset into training and testing\n",
        "xtrain,xtest,ytrain,ytest=train_test_split(x_new,y_new,test_size=.30,random_state=0)\n",
        "print(xtrain.shape,xtest.shape,ytrain.shape,ytest.shape)\n",
        "\n",
        "# feature scaling :: Standardize features by removing the mean and scaling to unit variance\n",
        "from sklearn.preprocessing import StandardScaler\n",
        "scaler=StandardScaler()\n",
        "xtrain=scaler.fit_transform(xtrain)\n",
        "xtest=scaler.transform(xtest)"
      ],
      "execution_count": 25,
      "outputs": [
        {
          "output_type": "stream",
          "name": "stdout",
          "text": [
            "(468158, 9) (200640, 9) (468158,) (200640,)\n"
          ]
        }
      ]
    },
    {
      "cell_type": "markdown",
      "metadata": {
        "id": "SUVfQnLMYmIL"
      },
      "source": [
        "#  Model Selection\n",
        "* The Problem can be identified as Binary Classification such as whether consumer purchases vehicle insurance or not.\n",
        "\n",
        "* Data contains more than 300000 information or variables.\n",
        "\n",
        "* Its smarter to stay away from SVM Classifier because takes more time to train as the dataset increases."
      ]
    },
    {
      "cell_type": "markdown",
      "metadata": {
        "id": "mi4NxeryCeig"
      },
      "source": [
        "### Fitting into Logistic Regression\n",
        "\n",
        "\n",
        "\n"
      ]
    },
    {
      "cell_type": "code",
      "metadata": {
        "id": "KehTebV_0Fa7",
        "colab": {
          "base_uri": "https://localhost:8080/"
        },
        "outputId": "2679dcd1-e206-492d-cf5c-979fa3775e74"
      },
      "source": [
        "# Model of logistic regression\n",
        "model=LogisticRegression()\n",
        "model=model.fit(xtrain,ytrain)\n",
        "pred=model.predict(xtest)\n",
        "lr_probability = model.predict_proba(xtest)[:,1]\n",
        "\n",
        "\n",
        "accu_logReg=accuracy_score(ytest,pred)\n",
        "recall_logReg=recall_score(ytest,pred)\n",
        "prec_logReg=precision_score(ytest,pred)\n",
        "f1_logReg=f1_score(ytest,pred)\n",
        "Auc_logReg=roc_auc_score(pred,ytest)\n",
        "\n",
        "# accuracy and Roc_Auc values of model\n",
        "print(\"Accuracy : \", accuracy_score(ytest,pred))\n",
        "print(\"ROC_AUC Score:\",Auc_logReg)"
      ],
      "execution_count": 26,
      "outputs": [
        {
          "output_type": "stream",
          "name": "stdout",
          "text": [
            "Accuracy :  0.783747009569378\n",
            "ROC_AUC Score: 0.8338904605026828\n"
          ]
        }
      ]
    },
    {
      "cell_type": "code",
      "metadata": {
        "id": "evPcOfNH7VuP",
        "colab": {
          "base_uri": "https://localhost:8080/"
        },
        "outputId": "6812cff9-8d57-46d3-a8cb-e8bb8a0f7ffe"
      },
      "source": [
        "print(classification_report(pred,ytest))"
      ],
      "execution_count": 27,
      "outputs": [
        {
          "output_type": "stream",
          "name": "stdout",
          "text": [
            "              precision    recall  f1-score   support\n",
            "\n",
            "           0       0.59      0.96      0.73     61449\n",
            "           1       0.98      0.70      0.82    139191\n",
            "\n",
            "    accuracy                           0.78    200640\n",
            "   macro avg       0.78      0.83      0.78    200640\n",
            "weighted avg       0.86      0.78      0.79    200640\n",
            "\n"
          ]
        }
      ]
    },
    {
      "cell_type": "markdown",
      "metadata": {
        "id": "3KCaxThKbGzQ"
      },
      "source": [
        "### ROC Curve (receiver operating characteristic curve)\n"
      ]
    },
    {
      "cell_type": "code",
      "metadata": {
        "id": "1F_LYGVGMESk",
        "colab": {
          "base_uri": "https://localhost:8080/",
          "height": 301
        },
        "outputId": "23caf301-cb8d-42fe-e89c-62ddd72019af"
      },
      "source": [
        "# Importing roc curve\n",
        "# The ROC curve is created by plotting the true positive rate (TPR) against the false positive rate (FPR) at various threshold settings.\n",
        "\n",
        "from sklearn.metrics import roc_curve    \n",
        "fpr, tpr, _ = roc_curve(ytest, lr_probability)     \n",
        "\n",
        "# Evaluation metrics\n",
        "plt.title('Linear Regression ROC curve')\n",
        "plt.xlabel('FPR (Precision)') # FPR, on the other hand, defines how many incorrect positive results occur among all negative samples available during the test.\n",
        "plt.ylabel('TPR (Recall)')    # TPR defines how many correct positive results occur among all positive samples available during the test.\n",
        "\n",
        "# Performance metrics\n",
        "plt.plot(fpr,tpr)\n",
        "plt.plot((0,1), ls='dashdot',color='brown')\n",
        "plt.show()"
      ],
      "execution_count": 28,
      "outputs": [
        {
          "output_type": "display_data",
          "data": {
            "image/png": "[encoded data removed]",
            "text/plain": [
              "<Figure size 432x288 with 1 Axes>"
            ]
          },
          "metadata": {}
        }
      ]
    },
    {
      "cell_type": "code",
      "metadata": {
        "id": "W-2zkeps9EqP",
        "colab": {
          "base_uri": "https://localhost:8080/",
          "height": 320
        },
        "outputId": "d0aa158f-fa9c-42e8-9fa7-77cf443456d9"
      },
      "source": [
        "# Confusion matrix \n",
        "cm=confusion_matrix(ytest,pred)\n",
        "print(cm)\n",
        "sns.heatmap(cm,annot=True,cmap='Spectral')"
      ],
      "execution_count": 29,
      "outputs": [
        {
          "output_type": "stream",
          "name": "stdout",
          "text": [
            "[[59194 41134]\n",
            " [ 2255 98057]]\n"
          ]
        },
        {
          "output_type": "execute_result",
          "data": {
            "text/plain": [
              "<matplotlib.axes._subplots.AxesSubplot at 0x7f9d0d0f5710>"
            ]
          },
          "metadata": {},
          "execution_count": 29
        },
        {
          "output_type": "display_data",
          "data": {
            "image/png": "[encoded data removed]",
            "text/plain": [
              "<Figure size 432x288 with 2 Axes>"
            ]
          },
          "metadata": {}
        }
      ]
    },
    {
      "cell_type": "markdown",
      "metadata": {
        "id": "QoW703KK-jIB"
      },
      "source": [
        "## Lets Run RandomForest Classifier"
      ]
    },
    {
      "cell_type": "code",
      "metadata": {
        "id": "8MGbU9Kj_CE-",
        "colab": {
          "base_uri": "https://localhost:8080/"
        },
        "outputId": "4e655e20-b173-4dd2-a2e7-34c58d1d1020"
      },
      "source": [
        "# Importing random forest classifier\n",
        "from sklearn.ensemble import RandomForestClassifier                                \n",
        "randomforest = RandomForestClassifier()                   \n",
        "randomforest = randomforest.fit(xtrain, ytrain)                             \n",
        "y_pred = randomforest.predict(xtest)                                            \n",
        "RF_probability = randomforest.predict_proba(xtest)[:,1]                \n",
        "\n",
        "\n",
        "\n",
        "# Evaluation metrics\n",
        "\n",
        "Auc_Ran_For=roc_auc_score(y_pred,ytest)\n",
        "acc_ranFor=accuracy_score(ytest,y_pred)\n",
        "recall_ranFor=recall_score(ytest,y_pred)\n",
        "prec_ranFor=precision_score(ytest,y_pred)\n",
        "f1_ranFor=f1_score(ytest,y_pred)\n",
        "\n",
        "print(accuracy_score(y_pred,ytest))\n",
        "print(\"ROC_AUC Score:\",Auc_Ran_For)"
      ],
      "execution_count": 30,
      "outputs": [
        {
          "output_type": "stream",
          "name": "stdout",
          "text": [
            "0.9446271929824561\n",
            "ROC_AUC Score: 0.9495428791473676\n"
          ]
        }
      ]
    },
    {
      "cell_type": "code",
      "metadata": {
        "id": "5xYikSt5_lYk",
        "colab": {
          "base_uri": "https://localhost:8080/"
        },
        "outputId": "983c9710-071d-43eb-cb1f-4dd14ebde1f1"
      },
      "source": [
        "# Lets understand classification report\n",
        "print(classification_report(y_pred,ytest))"
      ],
      "execution_count": 31,
      "outputs": [
        {
          "output_type": "stream",
          "name": "stdout",
          "text": [
            "              precision    recall  f1-score   support\n",
            "\n",
            "           0       0.89      1.00      0.94     89834\n",
            "           1       1.00      0.90      0.95    110806\n",
            "\n",
            "    accuracy                           0.94    200640\n",
            "   macro avg       0.94      0.95      0.94    200640\n",
            "weighted avg       0.95      0.94      0.94    200640\n",
            "\n"
          ]
        }
      ]
    },
    {
      "cell_type": "code",
      "metadata": {
        "id": "VHl8VljhMnYg",
        "colab": {
          "base_uri": "https://localhost:8080/",
          "height": 301
        },
        "outputId": "31d2bb00-a883-409f-8fb1-a3fcf2053b99"
      },
      "source": [
        "# Analyze Performance \n",
        "from sklearn.metrics import roc_curve\n",
        "fpr, tpr, _ = roc_curve(ytest, RF_probability)\n",
        "\n",
        "plt.title('Linear Regression ROC curve')\n",
        "plt.xlabel('FPR (Precision)')\n",
        "plt.ylabel('TPR (Recall)')\n",
        "\n",
        "plt.plot(fpr,tpr)\n",
        "plt.plot((0,1), ls='dashed',color='black')\n",
        "plt.show()"
      ],
      "execution_count": 32,
      "outputs": [
        {
          "output_type": "display_data",
          "data": {
            "image/png": "[encoded data removed]",
            "text/plain": [
              "<Figure size 432x288 with 1 Axes>"
            ]
          },
          "metadata": {}
        }
      ]
    },
    {
      "cell_type": "code",
      "metadata": {
        "id": "o0-CHgSgAhg7",
        "colab": {
          "base_uri": "https://localhost:8080/",
          "height": 324
        },
        "outputId": "857d6718-fe2a-478a-eae9-4617d053dfcc"
      },
      "source": [
        "# Confusion matrix\n",
        "cm=confusion_matrix(y_pred,ytest)\n",
        "print(cm)\n",
        "sns.heatmap(cm,annot=True,cmap='Wistia')"
      ],
      "execution_count": 33,
      "outputs": [
        {
          "output_type": "stream",
          "name": "stdout",
          "text": [
            "[[ 89526    308]\n",
            " [ 10802 100004]]\n"
          ]
        },
        {
          "output_type": "execute_result",
          "data": {
            "text/plain": [
              "<matplotlib.axes._subplots.AxesSubplot at 0x7f9d0d10cc90>"
            ]
          },
          "metadata": {},
          "execution_count": 33
        },
        {
          "output_type": "display_data",
          "data": {
            "image/png": "[encoded data removed]",
            "text/plain": [
              "<Figure size 432x288 with 2 Axes>"
            ]
          },
          "metadata": {}
        }
      ]
    },
    {
      "cell_type": "markdown",
      "metadata": {
        "id": "wSj7gm5YApSq"
      },
      "source": [
        "## Lets fit the XGBClassifier"
      ]
    },
    {
      "cell_type": "code",
      "metadata": {
        "id": "qQzof4KREpf4",
        "colab": {
          "base_uri": "https://localhost:8080/"
        },
        "outputId": "1442be4f-5011-4f4d-d4b9-c04b35beceb3"
      },
      "source": [
        "# importing of XGBClassifier\n",
        "from xgboost import XGBClassifier\n",
        "xgb=XGBClassifier()\n",
        "XGB_fit=xgb.fit(xtrain, ytrain)\n",
        "y_predict = XGB_fit.predict(xtest)\n",
        "XGB_probability = XGB_fit.predict_proba(xtest)[:,1]\n",
        "\n",
        "\n",
        "# Test metrics\n",
        "acc_xgb=accuracy_score(ytest,y_predict)\n",
        "recall_xgb=recall_score(ytest,y_predict)\n",
        "precision_xgb=precision_score(ytest,y_predict)\n",
        "f1score_xgb=f1_score(ytest,y_predict)\n",
        "\n",
        "AUC_xgb=roc_auc_score(y_predict,ytest)\n",
        "\n",
        "# Performance metrics\n",
        "print(accuracy_score(y_predict,ytest))\n",
        "print(\"ROC_AUC Score:\",AUC_xgb)"
      ],
      "execution_count": 34,
      "outputs": [
        {
          "output_type": "stream",
          "name": "stdout",
          "text": [
            "0.7978468899521531\n",
            "ROC_AUC Score: 0.8218570983681339\n"
          ]
        }
      ]
    },
    {
      "cell_type": "code",
      "metadata": {
        "id": "T6A1WgYDA8Lx",
        "colab": {
          "base_uri": "https://localhost:8080/"
        },
        "outputId": "e983af12-6e9c-4d2f-fdf5-3499f1ffac8e"
      },
      "source": [
        "# classification report\n",
        "print(classification_report(y_predict,ytest))"
      ],
      "execution_count": 35,
      "outputs": [
        {
          "output_type": "stream",
          "name": "stdout",
          "text": [
            "              precision    recall  f1-score   support\n",
            "\n",
            "           0       0.66      0.91      0.77     72926\n",
            "           1       0.93      0.73      0.82    127714\n",
            "\n",
            "    accuracy                           0.80    200640\n",
            "   macro avg       0.80      0.82      0.79    200640\n",
            "weighted avg       0.84      0.80      0.80    200640\n",
            "\n"
          ]
        }
      ]
    },
    {
      "cell_type": "code",
      "metadata": {
        "id": "Ht7hDDp_M0CV",
        "colab": {
          "base_uri": "https://localhost:8080/",
          "height": 301
        },
        "outputId": "758f2056-0652-47e4-e3f4-291e5908feee"
      },
      "source": [
        "# performance and evaluation\n",
        "from sklearn.metrics import roc_curve\n",
        "fpr, tpr, _ = roc_curve(ytest, XGB_probability)\n",
        "\n",
        "plt.title('XGBoost ROC curve')\n",
        "plt.xlabel('FPR (Precision)')\n",
        "plt.ylabel('TPR (Recall)')\n",
        "\n",
        "plt.plot(fpr,tpr)\n",
        "plt.plot((0,1), ls='dashed',color='black')\n",
        "plt.show()"
      ],
      "execution_count": 36,
      "outputs": [
        {
          "output_type": "display_data",
          "data": {
            "image/png": "[encoded data removed]",
            "text/plain": [
              "<Figure size 432x288 with 1 Axes>"
            ]
          },
          "metadata": {}
        }
      ]
    },
    {
      "cell_type": "code",
      "metadata": {
        "id": "kMhcqz0LA_Wx",
        "colab": {
          "base_uri": "https://localhost:8080/",
          "height": 320
        },
        "outputId": "b9f906bc-dff9-4aeb-b1f1-d7b35e88d308"
      },
      "source": [
        "#useful to find how many values are classified correctly\n",
        "cm=confusion_matrix(ytest,y_predict)\n",
        "print(cm)\n",
        "sns.heatmap(cm,annot=True,cmap='Accent')"
      ],
      "execution_count": 37,
      "outputs": [
        {
          "output_type": "stream",
          "name": "stdout",
          "text": [
            "[[66347 33981]\n",
            " [ 6579 93733]]\n"
          ]
        },
        {
          "output_type": "execute_result",
          "data": {
            "text/plain": [
              "<matplotlib.axes._subplots.AxesSubplot at 0x7f9d0cee6350>"
            ]
          },
          "metadata": {},
          "execution_count": 37
        },
        {
          "output_type": "display_data",
          "data": {
            "image/png": "[encoded data removed]",
            "text/plain": [
              "<Figure size 432x288 with 2 Axes>"
            ]
          },
          "metadata": {}
        }
      ]
    },
    {
      "cell_type": "markdown",
      "metadata": {
        "id": "JmJgsmr3BjOo"
      },
      "source": [
        "## Comparison of the different models"
      ]
    },
    {
      "cell_type": "code",
      "metadata": {
        "id": "52Gs25CDBI3B",
        "colab": {
          "base_uri": "https://localhost:8080/",
          "height": 143
        },
        "outputId": "7dd88b88-d1b7-42f3-939d-c98dd87a22ef"
      },
      "source": [
        "## Comparing the performance of the models\n",
        "ind=['Logistic regression','Randomforest','XGBClassifier']\n",
        "data={\"Accuracy\":[accu_logReg,acc_ranFor,acc_xgb],\"Recall\":[recall_logReg,recall_ranFor,recall_xgb],\"Precision\":[prec_logReg,prec_ranFor,precision_xgb],\n",
        "    'f1_score':[f1_logReg,f1_ranFor,f1score_xgb],\"ROC_AUC\":[Auc_logReg,Auc_Ran_For,AUC_xgb]}\n",
        "result=pd.DataFrame(data=data,index=ind)\n",
        "result\n"
      ],
      "execution_count": 38,
      "outputs": [
        {
          "output_type": "execute_result",
          "data": {
            "text/html": [
              "\n",
              "  <div id=\"df-cff46e14-eb59-4fac-b232-59c5314f6638\">\n",
              "    <div class=\"colab-df-container\">\n",
              "      <div>\n",
              "<style scoped>\n",
              "    .dataframe tbody tr th:only-of-type {\n",
              "        vertical-align: middle;\n",
              "    }\n",
              "\n",
              "    .dataframe tbody tr th {\n",
              "        vertical-align: top;\n",
              "    }\n",
              "\n",
              "    .dataframe thead th {\n",
              "        text-align: right;\n",
              "    }\n",
              "</style>\n",
              "<table border=\"1\" class=\"dataframe\">\n",
              "  <thead>\n",
              "    <tr style=\"text-align: right;\">\n",
              "      <th></th>\n",
              "      <th>Accuracy</th>\n",
              "      <th>Recall</th>\n",
              "      <th>Precision</th>\n",
              "      <th>f1_score</th>\n",
              "      <th>ROC_AUC</th>\n",
              "    </tr>\n",
              "  </thead>\n",
              "  <tbody>\n",
              "    <tr>\n",
              "      <th>Logistic regression</th>\n",
              "      <td>0.783747</td>\n",
              "      <td>0.977520</td>\n",
              "      <td>0.704478</td>\n",
              "      <td>0.818837</td>\n",
              "      <td>0.833890</td>\n",
              "    </tr>\n",
              "    <tr>\n",
              "      <th>Randomforest</th>\n",
              "      <td>0.944627</td>\n",
              "      <td>0.996930</td>\n",
              "      <td>0.902514</td>\n",
              "      <td>0.947375</td>\n",
              "      <td>0.949543</td>\n",
              "    </tr>\n",
              "    <tr>\n",
              "      <th>XGBClassifier</th>\n",
              "      <td>0.797847</td>\n",
              "      <td>0.934415</td>\n",
              "      <td>0.733929</td>\n",
              "      <td>0.822126</td>\n",
              "      <td>0.821857</td>\n",
              "    </tr>\n",
              "  </tbody>\n",
              "</table>\n",
              "</div>\n",
              "      <button class=\"colab-df-convert\" onclick=\"convertToInteractive('df-cff46e14-eb59-4fac-b232-59c5314f6638')\"\n",
              "              title=\"Convert this dataframe to an interactive table.\"\n",
              "              style=\"display:none;\">\n",
              "        \n",
              "  <svg xmlns=\"http://www.w3.org/2000/svg\" height=\"24px\"viewBox=\"0 0 24 24\"\n",
              "       width=\"24px\">\n",
              "    <path d=\"M0 0h24v24H0V0z\" fill=\"none\"/>\n",
              "    <path d=\"M18.56 5.44l.94 2.06.94-2.06 2.06-.94-2.06-.94-.94-2.06-.94 2.06-2.06.94zm-11 1L8.5 8.5l.94-2.06 2.06-.94-2.06-.94L8.5 2.5l-.94 2.06-2.06.94zm10 10l.94 2.06.94-2.06 2.06-.94-2.06-.94-.94-2.06-.94 2.06-2.06.94z\"/><path d=\"M17.41 7.96l-1.37-1.37c-.4-.4-.92-.59-1.43-.59-.52 0-1.04.2-1.43.59L10.3 9.45l-7.72 7.72c-.78.78-.78 2.05 0 2.83L4 21.41c.39.39.9.59 1.41.59.51 0 1.02-.2 1.41-.59l7.78-7.78 2.81-2.81c.8-.78.8-2.07 0-2.86zM5.41 20L4 18.59l7.72-7.72 1.47 1.35L5.41 20z\"/>\n",
              "  </svg>\n",
              "      </button>\n",
              "      \n",
              "  <style>\n",
              "    .colab-df-container {\n",
              "      display:flex;\n",
              "      flex-wrap:wrap;\n",
              "      gap: 12px;\n",
              "    }\n",
              "\n",
              "    .colab-df-convert {\n",
              "      background-color: #E8F0FE;\n",
              "      border: none;\n",
              "      border-radius: 50%;\n",
              "      cursor: pointer;\n",
              "      display: none;\n",
              "      fill: #1967D2;\n",
              "      height: 32px;\n",
              "      padding: 0 0 0 0;\n",
              "      width: 32px;\n",
              "    }\n",
              "\n",
              "    .colab-df-convert:hover {\n",
              "      background-color: #E2EBFA;\n",
              "      box-shadow: 0px 1px 2px rgba(60, 64, 67, 0.3), 0px 1px 3px 1px rgba(60, 64, 67, 0.15);\n",
              "      fill: #174EA6;\n",
              "    }\n",
              "\n",
              "    [theme=dark] .colab-df-convert {\n",
              "      background-color: #3B4455;\n",
              "      fill: #D2E3FC;\n",
              "    }\n",
              "\n",
              "    [theme=dark] .colab-df-convert:hover {\n",
              "      background-color: #434B5C;\n",
              "      box-shadow: 0px 1px 3px 1px rgba(0, 0, 0, 0.15);\n",
              "      filter: drop-shadow(0px 1px 2px rgba(0, 0, 0, 0.3));\n",
              "      fill: #FFFFFF;\n",
              "    }\n",
              "  </style>\n",
              "\n",
              "      <script>\n",
              "        const buttonEl =\n",
              "          document.querySelector('#df-cff46e14-eb59-4fac-b232-59c5314f6638 button.colab-df-convert');\n",
              "        buttonEl.style.display =\n",
              "          google.colab.kernel.accessAllowed ? 'block' : 'none';\n",
              "\n",
              "        async function convertToInteractive(key) {\n",
              "          const element = document.querySelector('#df-cff46e14-eb59-4fac-b232-59c5314f6638');\n",
              "          const dataTable =\n",
              "            await google.colab.kernel.invokeFunction('convertToInteractive',\n",
              "                                                     [key], {});\n",
              "          if (!dataTable) return;\n",
              "\n",
              "          const docLinkHtml = 'Like what you see? Visit the ' +\n",
              "            '<a target=\"_blank\" href=https://colab.research.google.com/notebooks/data_table.ipynb>data table notebook</a>'\n",
              "            + ' to learn more about interactive tables.';\n",
              "          element.innerHTML = '';\n",
              "          dataTable['output_type'] = 'display_data';\n",
              "          await google.colab.output.renderOutput(dataTable, element);\n",
              "          const docLink = document.createElement('div');\n",
              "          docLink.innerHTML = docLinkHtml;\n",
              "          element.appendChild(docLink);\n",
              "        }\n",
              "      </script>\n",
              "    </div>\n",
              "  </div>\n",
              "  "
            ],
            "text/plain": [
              "                     Accuracy    Recall  Precision  f1_score   ROC_AUC\n",
              "Logistic regression  0.783747  0.977520   0.704478  0.818837  0.833890\n",
              "Randomforest         0.944627  0.996930   0.902514  0.947375  0.949543\n",
              "XGBClassifier        0.797847  0.934415   0.733929  0.822126  0.821857"
            ]
          },
          "metadata": {},
          "execution_count": 38
        }
      ]
    },
    {
      "cell_type": "markdown",
      "metadata": {
        "id": "ITkevz6VFknV"
      },
      "source": [
        "The ML model for the problem statement was created using python with the help of the dataset, and the ML model created with Random Forest and XGBClassifier models performed better than Logistics Regression model. Thus, for the given problem, the models created by Random Forest and XGBClassifier."
      ]
    },
    {
      "cell_type": "markdown",
      "metadata": {
        "id": "cCXyDT03FnhG"
      },
      "source": [
        "# Conclusion"
      ]
    },
    {
      "cell_type": "markdown",
      "metadata": {
        "id": "Pj9Jsm10VpEM"
      },
      "source": [
        "* Customers of aged between 30 to 60 are more likely to buy insurance.\n",
        "* Customers aged between 30 to 60 are more likely to buy insurance.\n",
        "* Youngsters under 30 are not intrigued by vehicle insurance. Reasons could be  the absence of involvement, less awareness about insurance and they may not have costly vehicles yet.\n",
        "* Consumers with 1-2-year-old vehicles are more interested as compared to others.\n",
        "* Consumers with less than 1-year-old Vehicles have very less chance of buying Insurance\n",
        "* Customers with Driving License have a higher chance of buying Insurance.\n",
        "* Customers with Vehicle_Damage are likely to buy insurance.\n",
        "* The male category is somewhat more noteworthy than that of females and chances of purchasing the insurance are likewise minimally high.\n",
        "* The variable such as Age, Previously_insured, Annual_premium is more affecting the target variable.\n",
        "* Comparing the ROC curve we can see that the Random Forest model performs better. Because curves closer to the top-left corner indicate better performance.\n",
        "\n"
      ]
    }
  ]
}